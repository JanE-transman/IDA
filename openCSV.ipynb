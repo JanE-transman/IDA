{
 "cells": [
  {
   "cell_type": "code",
   "execution_count": 4,
   "id": "2bbc34b6",
   "metadata": {},
   "outputs": [
    {
     "name": "stdout",
     "output_type": "stream",
     "text": [
      "0    114\n",
      "1    114\n",
      "2    114\n",
      "3    114\n",
      "4    114\n",
      "Name: Herstellernummer_x, dtype: int64\n",
      "0         115\n",
      "1         115\n",
      "2         115\n",
      "3         115\n",
      "4         115\n",
      "         ... \n",
      "306485    113\n",
      "306486    113\n",
      "306487    113\n",
      "306488    113\n",
      "306489    113\n",
      "Name: Herstellernummer_x, Length: 306490, dtype: int64\n"
     ]
    }
   ],
   "source": [
    "import csv\n",
    "import pandas as pd\n",
    "Kompo = pd.read_csv(r'C:\\Users\\z00507ch\\OneDrive - Siemens Energy\\Dokumente\\VSC\\IDA\\Data\\Logistikverzug\\Komponente_K7.csv', index_col= 0, sep=';')\n",
    "#print(Kompo.head())\n",
    "Logis = pd.read_csv(r'C:\\Users\\z00507ch\\OneDrive - Siemens Energy\\Dokumente\\VSC\\IDA\\Data\\Logistikverzug\\Logistikverzug_K7.csv', index_col= 0, sep=',')\n",
    "#print(Logis.head())\n",
    "compare = Kompo.merge(Logis, on = 'IDNummer')\n",
    "#print(type(compare))\n",
    "#print(compare.head())\n",
    "v = compare['Herstellernummer_x'] \n",
    "print(v.head())\n",
    "v = v +1\n",
    "print(v)\n"
   ]
  }
 ],
 "metadata": {
  "kernelspec": {
   "display_name": "Python 3",
   "language": "python",
   "name": "python3"
  },
  "language_info": {
   "codemirror_mode": {
    "name": "ipython",
    "version": 3
   },
   "file_extension": ".py",
   "mimetype": "text/x-python",
   "name": "python",
   "nbconvert_exporter": "python",
   "pygments_lexer": "ipython3",
   "version": "3.13.5"
  }
 },
 "nbformat": 4,
 "nbformat_minor": 5
}
